{
 "cells": [
  {
   "cell_type": "code",
   "execution_count": 2,
   "metadata": {},
   "outputs": [],
   "source": [
    "import pandas as pd\n",
    "import numpy as np"
   ]
  },
  {
   "cell_type": "code",
   "execution_count": 10,
   "metadata": {},
   "outputs": [],
   "source": [
    "df = pd.read_csv('cancer_classification.csv')"
   ]
  },
  {
   "cell_type": "code",
   "execution_count": 11,
   "metadata": {},
   "outputs": [],
   "source": [
    "X=df.drop(columns=['benign_0__mal_1']).values\n",
    "y=df['benign_0__mal_1'].values"
   ]
  },
  {
   "cell_type": "code",
   "execution_count": 12,
   "metadata": {},
   "outputs": [],
   "source": [
    "from sklearn.model_selection import train_test_split"
   ]
  },
  {
   "cell_type": "code",
   "execution_count": 13,
   "metadata": {},
   "outputs": [],
   "source": [
    "X_train, X_test, y_train, y_test = train_test_split(X,y,test_size=0.25,random_state=101)"
   ]
  },
  {
   "cell_type": "code",
   "execution_count": 14,
   "metadata": {},
   "outputs": [],
   "source": [
    "from sklearn.preprocessing import MinMaxScaler"
   ]
  },
  {
   "cell_type": "code",
   "execution_count": 15,
   "metadata": {},
   "outputs": [
    {
     "data": {
      "text/plain": [
       "MinMaxScaler()"
      ]
     },
     "execution_count": 15,
     "metadata": {},
     "output_type": "execute_result"
    }
   ],
   "source": [
    "scaler = MinMaxScaler()\n",
    "scaler.fit(X_train)"
   ]
  },
  {
   "cell_type": "code",
   "execution_count": 16,
   "metadata": {},
   "outputs": [],
   "source": [
    "X_train=scaler.transform(X_train)\n",
    "X_test=scaler.transform(X_test)"
   ]
  },
  {
   "cell_type": "code",
   "execution_count": 18,
   "metadata": {},
   "outputs": [],
   "source": [
    "import tensorflow as tf\n",
    "from tensorflow.keras.models import Sequential\n",
    "from tensorflow.keras.layers import Dense, Activation,Dropout"
   ]
  },
  {
   "cell_type": "code",
   "execution_count": 19,
   "metadata": {},
   "outputs": [],
   "source": [
    "from tensorflow.keras.callbacks import EarlyStopping, TensorBoard"
   ]
  },
  {
   "cell_type": "code",
   "execution_count": 20,
   "metadata": {},
   "outputs": [],
   "source": [
    "early_stop= EarlyStopping(monitor='val_loss', mode = 'min',verbose=1, patience=25)"
   ]
  },
  {
   "cell_type": "code",
   "execution_count": 21,
   "metadata": {},
   "outputs": [
    {
     "data": {
      "text/plain": [
       "'C:\\\\Users\\\\LAMAN\\\\Box\\\\Python\\\\My data'"
      ]
     },
     "execution_count": 21,
     "metadata": {},
     "output_type": "execute_result"
    }
   ],
   "source": [
    "pwd"
   ]
  },
  {
   "cell_type": "code",
   "execution_count": 22,
   "metadata": {},
   "outputs": [],
   "source": [
    "from datetime import datetime"
   ]
  },
  {
   "cell_type": "code",
   "execution_count": 23,
   "metadata": {},
   "outputs": [
    {
     "data": {
      "text/plain": [
       "'2020-06-26--1130'"
      ]
     },
     "execution_count": 23,
     "metadata": {},
     "output_type": "execute_result"
    }
   ],
   "source": [
    "datetime.now().strftime('%Y-%m-%d--%H%M')"
   ]
  },
  {
   "cell_type": "code",
   "execution_count": 24,
   "metadata": {},
   "outputs": [],
   "source": [
    "# WINDOWS: Use \"logs\\\\fit\"\n",
    "# MACOS/LINUX: Use \"logs\\fit\"\n",
    "\n",
    "log_directory = 'logs\\\\fit'\n",
    "\n",
    "# OPTIONAL: ADD A TIMESTAMP FOR UNIQUE FOLDER\n",
    "# timestamp = datetime.now().strftime(\"%Y-%m-%d--%H%M\")\n",
    "# log_directory = log_directory + '\\\\' + timestamp\n",
    "\n",
    "\n",
    "board = TensorBoard(log_dir=log_directory,histogram_freq=1,\n",
    "    write_graph=True,\n",
    "    write_images=True,\n",
    "    update_freq='epoch',\n",
    "    profile_batch=2,\n",
    "    embeddings_freq=1)"
   ]
  },
  {
   "cell_type": "code",
   "execution_count": 25,
   "metadata": {},
   "outputs": [],
   "source": [
    "model= Sequential()\n",
    "model.add(Dense(units=30,activation='relu'))\n",
    "model.add(Dropout(0.5))\n",
    "model.add(Dense(units=15,activation='relu'))\n",
    "model.add(Dropout(0.5))\n",
    "model.add(Dense(units=1,activation='sigmoid'))\n",
    "model.compile(loss='binary_crossentropy', optimizer='adam')"
   ]
  },
  {
   "cell_type": "code",
   "execution_count": 28,
   "metadata": {},
   "outputs": [
    {
     "name": "stdout",
     "output_type": "stream",
     "text": [
      "Epoch 1/600\n",
      "14/14 [==============================] - 1s 86ms/step - loss: 0.6988 - val_loss: 0.6654\n",
      "Epoch 2/600\n",
      "14/14 [==============================] - 1s 49ms/step - loss: 0.6681 - val_loss: 0.6516\n",
      "Epoch 3/600\n",
      "14/14 [==============================] - 1s 48ms/step - loss: 0.6554 - val_loss: 0.6328\n",
      "Epoch 4/600\n",
      "14/14 [==============================] - 1s 54ms/step - loss: 0.6372 - val_loss: 0.6129\n",
      "Epoch 5/600\n",
      "14/14 [==============================] - 1s 58ms/step - loss: 0.6186 - val_loss: 0.5918\n",
      "Epoch 6/600\n",
      "14/14 [==============================] - 1s 57ms/step - loss: 0.6035 - val_loss: 0.5709\n",
      "Epoch 7/600\n",
      "14/14 [==============================] - 1s 59ms/step - loss: 0.5749 - val_loss: 0.5419\n",
      "Epoch 8/600\n",
      "14/14 [==============================] - 1s 57ms/step - loss: 0.5442 - val_loss: 0.5114\n",
      "Epoch 9/600\n",
      "14/14 [==============================] - 1s 53ms/step - loss: 0.5265 - val_loss: 0.4837\n",
      "Epoch 10/600\n",
      "14/14 [==============================] - 1s 51ms/step - loss: 0.5180 - val_loss: 0.4556\n",
      "Epoch 11/600\n",
      "14/14 [==============================] - 0s 34ms/step - loss: 0.5102 - val_loss: 0.4334\n",
      "Epoch 12/600\n",
      "14/14 [==============================] - 1s 41ms/step - loss: 0.4648 - val_loss: 0.4102\n",
      "Epoch 13/600\n",
      "14/14 [==============================] - 1s 49ms/step - loss: 0.4727 - val_loss: 0.3876\n",
      "Epoch 14/600\n",
      "14/14 [==============================] - 1s 53ms/step - loss: 0.4249 - val_loss: 0.3607\n",
      "Epoch 15/600\n",
      "14/14 [==============================] - 1s 47ms/step - loss: 0.4357 - val_loss: 0.3413\n",
      "Epoch 16/600\n",
      "14/14 [==============================] - 1s 49ms/step - loss: 0.4007 - val_loss: 0.3206\n",
      "Epoch 17/600\n",
      "14/14 [==============================] - 1s 81ms/step - loss: 0.4091 - val_loss: 0.3094\n",
      "Epoch 18/600\n",
      "14/14 [==============================] - 1s 58ms/step - loss: 0.3768 - val_loss: 0.2873\n",
      "Epoch 19/600\n",
      "14/14 [==============================] - 1s 43ms/step - loss: 0.3741 - val_loss: 0.2686\n",
      "Epoch 20/600\n",
      "14/14 [==============================] - 1s 41ms/step - loss: 0.3752 - val_loss: 0.2547\n",
      "Epoch 21/600\n",
      "14/14 [==============================] - 1s 41ms/step - loss: 0.3420 - val_loss: 0.2420\n",
      "Epoch 22/600\n",
      "14/14 [==============================] - 1s 43ms/step - loss: 0.3680 - val_loss: 0.2385\n",
      "Epoch 23/600\n",
      "14/14 [==============================] - 1s 45ms/step - loss: 0.3216 - val_loss: 0.2253\n",
      "Epoch 24/600\n",
      "14/14 [==============================] - 0s 33ms/step - loss: 0.3072 - val_loss: 0.2112\n",
      "Epoch 25/600\n",
      "14/14 [==============================] - 0s 26ms/step - loss: 0.3011 - val_loss: 0.2044\n",
      "Epoch 26/600\n",
      "14/14 [==============================] - 0s 26ms/step - loss: 0.2880 - val_loss: 0.1949\n",
      "Epoch 27/600\n",
      "14/14 [==============================] - 0s 27ms/step - loss: 0.2796 - val_loss: 0.1876\n",
      "Epoch 28/600\n",
      "14/14 [==============================] - 0s 28ms/step - loss: 0.2968 - val_loss: 0.1811\n",
      "Epoch 29/600\n",
      "14/14 [==============================] - 0s 35ms/step - loss: 0.2594 - val_loss: 0.1721\n",
      "Epoch 30/600\n",
      "14/14 [==============================] - 0s 33ms/step - loss: 0.2764 - val_loss: 0.1693\n",
      "Epoch 31/600\n",
      "14/14 [==============================] - 0s 33ms/step - loss: 0.2692 - val_loss: 0.1700\n",
      "Epoch 32/600\n",
      "14/14 [==============================] - 0s 35ms/step - loss: 0.2773 - val_loss: 0.1674\n",
      "Epoch 33/600\n",
      "14/14 [==============================] - 1s 36ms/step - loss: 0.2441 - val_loss: 0.1561\n",
      "Epoch 34/600\n",
      "14/14 [==============================] - 0s 35ms/step - loss: 0.2553 - val_loss: 0.1578\n",
      "Epoch 35/600\n",
      "14/14 [==============================] - 1s 41ms/step - loss: 0.2307 - val_loss: 0.1495\n",
      "Epoch 36/600\n",
      "14/14 [==============================] - 1s 42ms/step - loss: 0.2505 - val_loss: 0.1476\n",
      "Epoch 37/600\n",
      "14/14 [==============================] - 1s 43ms/step - loss: 0.2557 - val_loss: 0.1525\n",
      "Epoch 38/600\n",
      "14/14 [==============================] - 1s 42ms/step - loss: 0.2250 - val_loss: 0.1406\n",
      "Epoch 39/600\n",
      "14/14 [==============================] - 1s 47ms/step - loss: 0.1989 - val_loss: 0.1332\n",
      "Epoch 40/600\n",
      "14/14 [==============================] - 1s 45ms/step - loss: 0.2171 - val_loss: 0.1287\n",
      "Epoch 41/600\n",
      "14/14 [==============================] - 1s 48ms/step - loss: 0.2277 - val_loss: 0.1352\n",
      "Epoch 42/600\n",
      "14/14 [==============================] - 1s 46ms/step - loss: 0.2003 - val_loss: 0.1465\n",
      "Epoch 43/600\n",
      "14/14 [==============================] - 0s 33ms/step - loss: 0.1758 - val_loss: 0.1263\n",
      "Epoch 44/600\n",
      "14/14 [==============================] - 0s 27ms/step - loss: 0.1889 - val_loss: 0.1227\n",
      "Epoch 45/600\n",
      "14/14 [==============================] - 0s 30ms/step - loss: 0.1964 - val_loss: 0.1293\n",
      "Epoch 46/600\n",
      "14/14 [==============================] - 0s 29ms/step - loss: 0.1982 - val_loss: 0.1239\n",
      "Epoch 47/600\n",
      "14/14 [==============================] - 0s 31ms/step - loss: 0.1808 - val_loss: 0.1178\n",
      "Epoch 48/600\n",
      "14/14 [==============================] - 0s 30ms/step - loss: 0.1965 - val_loss: 0.1256\n",
      "Epoch 49/600\n",
      "14/14 [==============================] - 0s 32ms/step - loss: 0.1727 - val_loss: 0.1155\n",
      "Epoch 50/600\n",
      "14/14 [==============================] - 1s 41ms/step - loss: 0.1920 - val_loss: 0.1146\n",
      "Epoch 51/600\n",
      "14/14 [==============================] - 0s 34ms/step - loss: 0.1678 - val_loss: 0.1172\n",
      "Epoch 52/600\n",
      "14/14 [==============================] - 0s 35ms/step - loss: 0.1641 - val_loss: 0.1218\n",
      "Epoch 53/600\n",
      "14/14 [==============================] - 1s 40ms/step - loss: 0.1761 - val_loss: 0.1192\n",
      "Epoch 54/600\n",
      "14/14 [==============================] - 1s 42ms/step - loss: 0.1800 - val_loss: 0.1099\n",
      "Epoch 55/600\n",
      "14/14 [==============================] - 1s 41ms/step - loss: 0.1438 - val_loss: 0.1060\n",
      "Epoch 56/600\n",
      "14/14 [==============================] - 1s 43ms/step - loss: 0.1253 - val_loss: 0.1034\n",
      "Epoch 57/600\n",
      "14/14 [==============================] - 1s 41ms/step - loss: 0.1818 - val_loss: 0.1039\n",
      "Epoch 58/600\n",
      "14/14 [==============================] - 1s 43ms/step - loss: 0.1565 - val_loss: 0.1069\n",
      "Epoch 59/600\n",
      "14/14 [==============================] - 1s 56ms/step - loss: 0.1499 - val_loss: 0.1031\n",
      "Epoch 60/600\n",
      "14/14 [==============================] - 1s 43ms/step - loss: 0.1687 - val_loss: 0.1024\n",
      "Epoch 61/600\n",
      "14/14 [==============================] - 1s 46ms/step - loss: 0.1611 - val_loss: 0.1032\n",
      "Epoch 62/600\n",
      "14/14 [==============================] - 0s 25ms/step - loss: 0.1395 - val_loss: 0.1048\n",
      "Epoch 63/600\n",
      "14/14 [==============================] - 0s 25ms/step - loss: 0.1518 - val_loss: 0.0993\n",
      "Epoch 64/600\n",
      "14/14 [==============================] - 0s 26ms/step - loss: 0.1406 - val_loss: 0.0967\n",
      "Epoch 65/600\n",
      "14/14 [==============================] - 0s 28ms/step - loss: 0.1464 - val_loss: 0.1036\n",
      "Epoch 66/600\n",
      "14/14 [==============================] - 0s 29ms/step - loss: 0.1413 - val_loss: 0.1068\n",
      "Epoch 67/600\n",
      "14/14 [==============================] - 0s 30ms/step - loss: 0.1324 - val_loss: 0.0969\n",
      "Epoch 68/600\n",
      "14/14 [==============================] - 0s 32ms/step - loss: 0.1437 - val_loss: 0.1072\n",
      "Epoch 69/600\n",
      "14/14 [==============================] - 1s 40ms/step - loss: 0.1406 - val_loss: 0.0943\n",
      "Epoch 70/600\n",
      "14/14 [==============================] - 0s 35ms/step - loss: 0.1245 - val_loss: 0.0956\n",
      "Epoch 71/600\n",
      "14/14 [==============================] - 1s 40ms/step - loss: 0.1450 - val_loss: 0.1000\n",
      "Epoch 72/600\n",
      "14/14 [==============================] - 1s 38ms/step - loss: 0.1278 - val_loss: 0.0997\n",
      "Epoch 73/600\n",
      "14/14 [==============================] - 1s 43ms/step - loss: 0.1387 - val_loss: 0.0925\n",
      "Epoch 74/600\n",
      "14/14 [==============================] - 1s 39ms/step - loss: 0.1083 - val_loss: 0.1054\n",
      "Epoch 75/600\n",
      "14/14 [==============================] - 1s 40ms/step - loss: 0.1292 - val_loss: 0.1045\n",
      "Epoch 76/600\n",
      "14/14 [==============================] - 1s 44ms/step - loss: 0.1468 - val_loss: 0.0916\n",
      "Epoch 77/600\n",
      "14/14 [==============================] - 1s 43ms/step - loss: 0.1127 - val_loss: 0.1079\n",
      "Epoch 78/600\n",
      "14/14 [==============================] - 1s 44ms/step - loss: 0.1407 - val_loss: 0.1003\n",
      "Epoch 79/600\n",
      "14/14 [==============================] - 1s 43ms/step - loss: 0.1287 - val_loss: 0.0909\n",
      "Epoch 80/600\n",
      "14/14 [==============================] - 1s 47ms/step - loss: 0.1187 - val_loss: 0.0900\n",
      "Epoch 81/600\n",
      "14/14 [==============================] - 0s 24ms/step - loss: 0.1193 - val_loss: 0.0951\n",
      "Epoch 82/600\n"
     ]
    },
    {
     "name": "stdout",
     "output_type": "stream",
     "text": [
      "14/14 [==============================] - 0s 26ms/step - loss: 0.1242 - val_loss: 0.0926\n",
      "Epoch 83/600\n",
      "14/14 [==============================] - 0s 27ms/step - loss: 0.1120 - val_loss: 0.0982\n",
      "Epoch 84/600\n",
      "14/14 [==============================] - 0s 28ms/step - loss: 0.1105 - val_loss: 0.0911\n",
      "Epoch 85/600\n",
      "14/14 [==============================] - 0s 28ms/step - loss: 0.1173 - val_loss: 0.0957\n",
      "Epoch 86/600\n",
      "14/14 [==============================] - 1s 63ms/step - loss: 0.1140 - val_loss: 0.1057\n",
      "Epoch 87/600\n",
      "14/14 [==============================] - 0s 34ms/step - loss: 0.1204 - val_loss: 0.0969\n",
      "Epoch 88/600\n",
      "14/14 [==============================] - 0s 32ms/step - loss: 0.1005 - val_loss: 0.0998\n",
      "Epoch 89/600\n",
      "14/14 [==============================] - 1s 36ms/step - loss: 0.1171 - val_loss: 0.0890\n",
      "Epoch 90/600\n",
      "14/14 [==============================] - 1s 36ms/step - loss: 0.1068 - val_loss: 0.0928\n",
      "Epoch 91/600\n",
      "14/14 [==============================] - 1s 37ms/step - loss: 0.1196 - val_loss: 0.0859\n",
      "Epoch 92/600\n",
      "14/14 [==============================] - 1s 39ms/step - loss: 0.1280 - val_loss: 0.0972\n",
      "Epoch 93/600\n",
      "14/14 [==============================] - 1s 43ms/step - loss: 0.1069 - val_loss: 0.0974\n",
      "Epoch 94/600\n",
      "14/14 [==============================] - 1s 42ms/step - loss: 0.1151 - val_loss: 0.0896\n",
      "Epoch 95/600\n",
      "14/14 [==============================] - 1s 41ms/step - loss: 0.1216 - val_loss: 0.0859\n",
      "Epoch 96/600\n",
      "14/14 [==============================] - 1s 47ms/step - loss: 0.1305 - val_loss: 0.0875\n",
      "Epoch 97/600\n",
      "14/14 [==============================] - 1s 50ms/step - loss: 0.1146 - val_loss: 0.1051\n",
      "Epoch 98/600\n",
      "14/14 [==============================] - 1s 45ms/step - loss: 0.1189 - val_loss: 0.0901\n",
      "Epoch 99/600\n",
      "14/14 [==============================] - 1s 41ms/step - loss: 0.1094 - val_loss: 0.0851\n",
      "Epoch 100/600\n",
      "14/14 [==============================] - 0s 24ms/step - loss: 0.1034 - val_loss: 0.0882\n",
      "Epoch 101/600\n",
      "14/14 [==============================] - 0s 25ms/step - loss: 0.0888 - val_loss: 0.0970\n",
      "Epoch 102/600\n",
      "14/14 [==============================] - 0s 28ms/step - loss: 0.1125 - val_loss: 0.1063\n",
      "Epoch 103/600\n",
      "14/14 [==============================] - 0s 32ms/step - loss: 0.1184 - val_loss: 0.0868\n",
      "Epoch 104/600\n",
      "14/14 [==============================] - 0s 35ms/step - loss: 0.1189 - val_loss: 0.1047\n",
      "Epoch 105/600\n",
      "14/14 [==============================] - 0s 35ms/step - loss: 0.1005 - val_loss: 0.0847\n",
      "Epoch 106/600\n",
      "14/14 [==============================] - 0s 35ms/step - loss: 0.1049 - val_loss: 0.1023\n",
      "Epoch 107/600\n",
      "14/14 [==============================] - 0s 34ms/step - loss: 0.1084 - val_loss: 0.0995\n",
      "Epoch 108/600\n",
      "14/14 [==============================] - 2s 146ms/step - loss: 0.0958 - val_loss: 0.0833\n",
      "Epoch 109/600\n",
      "14/14 [==============================] - 1s 79ms/step - loss: 0.0917 - val_loss: 0.1174\n",
      "Epoch 110/600\n",
      "14/14 [==============================] - 1s 56ms/step - loss: 0.1153 - val_loss: 0.1052\n",
      "Epoch 111/600\n",
      "14/14 [==============================] - 1s 64ms/step - loss: 0.1118 - val_loss: 0.0803\n",
      "Epoch 112/600\n",
      "14/14 [==============================] - 1s 58ms/step - loss: 0.1266 - val_loss: 0.0856\n",
      "Epoch 113/600\n",
      "14/14 [==============================] - 1s 77ms/step - loss: 0.0886 - val_loss: 0.0852\n",
      "Epoch 114/600\n",
      "14/14 [==============================] - 2s 115ms/step - loss: 0.1080 - val_loss: 0.0899\n",
      "Epoch 115/600\n",
      "14/14 [==============================] - 1s 54ms/step - loss: 0.1003 - val_loss: 0.0994\n",
      "Epoch 116/600\n",
      "14/14 [==============================] - 1s 89ms/step - loss: 0.0817 - val_loss: 0.0893\n",
      "Epoch 117/600\n",
      "14/14 [==============================] - 1s 86ms/step - loss: 0.0922 - val_loss: 0.0870\n",
      "Epoch 118/600\n",
      "14/14 [==============================] - 1s 77ms/step - loss: 0.1069 - val_loss: 0.0824\n",
      "Epoch 119/600\n",
      "14/14 [==============================] - 1s 67ms/step - loss: 0.1093 - val_loss: 0.0978\n",
      "Epoch 120/600\n",
      "14/14 [==============================] - 1s 50ms/step - loss: 0.0816 - val_loss: 0.0915\n",
      "Epoch 121/600\n",
      "14/14 [==============================] - 1s 56ms/step - loss: 0.0866 - val_loss: 0.1013\n",
      "Epoch 122/600\n",
      "14/14 [==============================] - 1s 49ms/step - loss: 0.1063 - val_loss: 0.0941\n",
      "Epoch 123/600\n",
      "14/14 [==============================] - 1s 42ms/step - loss: 0.0889 - val_loss: 0.0983\n",
      "Epoch 124/600\n",
      "14/14 [==============================] - 0s 36ms/step - loss: 0.1068 - val_loss: 0.0905\n",
      "Epoch 125/600\n",
      "14/14 [==============================] - 1s 38ms/step - loss: 0.1052 - val_loss: 0.0872\n",
      "Epoch 126/600\n",
      "14/14 [==============================] - 0s 29ms/step - loss: 0.1230 - val_loss: 0.0976\n",
      "Epoch 127/600\n",
      "14/14 [==============================] - 0s 34ms/step - loss: 0.0902 - val_loss: 0.0846\n",
      "Epoch 128/600\n",
      "14/14 [==============================] - 0s 32ms/step - loss: 0.0869 - val_loss: 0.0846\n",
      "Epoch 129/600\n",
      "14/14 [==============================] - 1s 39ms/step - loss: 0.1077 - val_loss: 0.0917\n",
      "Epoch 130/600\n",
      "14/14 [==============================] - 1s 41ms/step - loss: 0.1186 - val_loss: 0.0982\n",
      "Epoch 131/600\n",
      "14/14 [==============================] - 1s 40ms/step - loss: 0.1039 - val_loss: 0.0909\n",
      "Epoch 132/600\n",
      "14/14 [==============================] - 1s 36ms/step - loss: 0.0923 - val_loss: 0.1013\n",
      "Epoch 133/600\n",
      "14/14 [==============================] - 1s 39ms/step - loss: 0.0777 - val_loss: 0.0947\n",
      "Epoch 134/600\n",
      "14/14 [==============================] - 1s 67ms/step - loss: 0.0892 - val_loss: 0.0916\n",
      "Epoch 135/600\n",
      "14/14 [==============================] - 1s 70ms/step - loss: 0.0898 - val_loss: 0.0963\n",
      "Epoch 136/600\n",
      "14/14 [==============================] - 1s 65ms/step - loss: 0.0825 - val_loss: 0.0876\n",
      "Epoch 00136: early stopping\n"
     ]
    },
    {
     "data": {
      "text/plain": [
       "<tensorflow.python.keras.callbacks.History at 0x28d8599ad00>"
      ]
     },
     "execution_count": 28,
     "metadata": {},
     "output_type": "execute_result"
    }
   ],
   "source": [
    "model.fit(x=X_train,\n",
    "         y=y_train,\n",
    "         epochs=600,\n",
    "         validation_data=(X_test,y_test),\n",
    "          verbose=1,\n",
    "          callbacks=[early_stop,board])"
   ]
  },
  {
   "cell_type": "code",
   "execution_count": 29,
   "metadata": {},
   "outputs": [
    {
     "name": "stdout",
     "output_type": "stream",
     "text": [
      "logs\\fit\n"
     ]
    }
   ],
   "source": [
    "print(log_directory)"
   ]
  },
  {
   "cell_type": "code",
   "execution_count": 30,
   "metadata": {},
   "outputs": [
    {
     "data": {
      "text/plain": [
       "'C:\\\\Users\\\\LAMAN\\\\Box\\\\Python\\\\My data'"
      ]
     },
     "execution_count": 30,
     "metadata": {},
     "output_type": "execute_result"
    }
   ],
   "source": [
    "pwd"
   ]
  },
  {
   "cell_type": "code",
   "execution_count": null,
   "metadata": {},
   "outputs": [],
   "source": []
  }
 ],
 "metadata": {
  "kernelspec": {
   "display_name": "Python 3",
   "language": "python",
   "name": "python3"
  },
  "language_info": {
   "codemirror_mode": {
    "name": "ipython",
    "version": 3
   },
   "file_extension": ".py",
   "mimetype": "text/x-python",
   "name": "python",
   "nbconvert_exporter": "python",
   "pygments_lexer": "ipython3",
   "version": "3.8.3"
  }
 },
 "nbformat": 4,
 "nbformat_minor": 4
}
